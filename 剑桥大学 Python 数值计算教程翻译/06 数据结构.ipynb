{
 "cells": [
  {
   "cell_type": "markdown",
   "metadata": {},
   "source": [
    "# 介绍\n",
    "\n",
    "在程序中，一个数据结构就是一个拥有一组数据的“对象”。“数组”也许就是一种简单的数据结构，它可以持有一个向量，一个名称列表。而复杂一点的数据结构可能用于表示电话号码目录，也就是保存了 {名称，电话号码} 这样的键值对。\n",
    "\n",
    "在现代语言中，就好比 Python，提供了很多内置的数据结构。它们都经过了很好的测试以及优化；因此使用类库中的数据结构可以让我们的程序更加简单，更容易阅读以及拥有更好的性能。\n",
    "\n",
    "当然，我们也可以因为特殊的目的而开发自己的数据结构。但在本章中，我们主要关注于选择并使用内置的数据结构。我们自定义的数据结构将在“面向对象”一章中会提到。\n",
    "\n",
    "\n",
    "### 目标\n",
    "\n",
    "- 使用 `list`, `tuple` 和字典 (`dict`) 数据结构\n",
    "- 使用迭代访问一个数据结构中的条目 \n",
    "- 学会为一个应用选择合适的数据结构"
   ]
  },
  {
   "cell_type": "markdown",
   "metadata": {},
   "source": [
    "# 数据结构\n",
    "\n",
    "目前为止，我们的示例都仅限于简单的内置数据类型，比如：`string`, `int` 和 `float`。但实际上，程序将会使用 *数据结构* 来将数据收集到一起并放进一个有用的包中。举个例子，除了使用三个浮点数 `u`, `v`, `w` 来表示一个 `r` 向量外，我们也可以使用一个浮点数列表，`r = [u, v, w]`。相似的，如果我们想要保存实验分组中学生的名称时，我们可以使用一个名称列表，而非为每一个学生创建一个字符串变量。例如："
   ]
  },
  {
   "cell_type": "code",
   "execution_count": 1,
   "metadata": {},
   "outputs": [],
   "source": [
    "lab_group0 = [\"Sarah\", \"John\", \"Joe\", \"Emily\"]\n",
    "lab_group1 = [\"Roger\", \"Rachel\", \"Amer\", \"Caroline\", \"Colin\"]"
   ]
  },
  {
   "cell_type": "markdown",
   "metadata": {},
   "source": [
    "这种结构更强大的地方在于，我们还可以在一个列表上执行操作，比如检查它的长度（一个实验小组中学生的数量），将列表中的名称以字母顺序排序，添加或移除名称。我们甚至还能创建一个列表的列表，例如："
   ]
  },
  {
   "cell_type": "code",
   "execution_count": 2,
   "metadata": {},
   "outputs": [],
   "source": [
    "lab_groups = [lab_group0, lab_group1]"
   ]
  },
  {
   "cell_type": "markdown",
   "metadata": {},
   "source": [
    "将所有的实验分组收集到一个 *嵌套的* 列表中。\n",
    "\n",
    "当将数据传递给函数的时候，数据结构会变得相当有用。比方说，我们想要一个函数将一个给定的实验小组中学生的名称给打印出来，这时我们就可以仅仅将实验小组成员的名称列表传递给这个函数，而非传递每个学生的名称（不同分组中成员的数量都可能不一样）。同样，我们也可以开发一个函数来计算两个任意长度向量的点乘，这样就不需要传递向量中的每个成分，而只需要传递两个向量即可。\n",
    "\n",
    "接下来我们将会学习 Python 中常用的三种内助数据类型。它们是：\n",
    "\n",
    "- `list` \n",
    "- `tuple`\n",
    "- `dict`（字典）"
   ]
  },
  {
   "cell_type": "markdown",
   "metadata": {},
   "source": [
    "# 列表\n",
    "\n",
    "一个 `list` 就是一个数据序列。在其它的语言中，“数组”都具有相似的概念，但 Python 的列表相比于数组更宽泛，因为它可以保存具有不同数据类型的元素。一个列表是由一对方括号构建的："
   ]
  },
  {
   "cell_type": "code",
   "execution_count": 3,
   "metadata": {},
   "outputs": [
    {
     "output_type": "stream",
     "name": "stdout",
     "text": "Lab group members: ['Sarah', 'John', 'Joe', 'Emily', 'Quang']\nSize of lab group: 5\nCheck the Python object type: <class 'list'>\n"
    }
   ],
   "source": [
    "lab_group0 = [\"Sarah\", \"John\", \"Joe\", \"Emily\", \"Quang\"]\n",
    "print(\"Lab group members: {}\".format(lab_group0))\n",
    "print(\"Size of lab group: {}\".format(len(lab_group0)))\n",
    "\n",
    "print(\"Check the Python object type: {}\".format(type(lab_group0)))"
   ]
  },
  {
   "cell_type": "markdown",
   "metadata": {},
   "source": [
    "函数 `len` 会返回列表的长度（元素的数量）。\n",
    "\n",
    "空列表使用以下方式创建："
   ]
  },
  {
   "cell_type": "code",
   "execution_count": 4,
   "metadata": {},
   "outputs": [],
   "source": [
    "my_list = []"
   ]
  },
  {
   "cell_type": "markdown",
   "metadata": {},
   "source": [
    "具有 5 个重复数据组成的列表可通过以下方式创建："
   ]
  },
  {
   "cell_type": "code",
   "execution_count": 5,
   "metadata": {},
   "outputs": [
    {
     "output_type": "stream",
     "name": "stdout",
     "text": "['Oliver', 'Oliver', 'Oliver', 'Oliver', 'Oliver']\n"
    }
   ],
   "source": [
    "my_list = [\"Oliver\"] * 5\n",
    "print(my_list)"
   ]
  },
  {
   "cell_type": "markdown",
   "metadata": {},
   "source": [
    "## 迭代列表\n",
    "\n",
    "循环一个列表中的每个元素（或者宽泛点说，序列）被称为 *迭代 (iterating)*。对实验小组成员的迭代使用以下语法："
   ]
  },
  {
   "cell_type": "code",
   "execution_count": 6,
   "metadata": {},
   "outputs": [
    {
     "output_type": "stream",
     "name": "stdout",
     "text": "Sarah\nJohn\nJoe\nEmily\nQuang\n"
    }
   ],
   "source": [
    "for member in lab_group0:\n",
    "    print(member)"
   ]
  },
  {
   "cell_type": "markdown",
   "metadata": {},
   "source": [
    "假如，我们在迭代实验小组成员中的每个名称时，也想要获取每个成员在列表中的位置时。我们可以使用 `enumerate`："
   ]
  },
  {
   "cell_type": "code",
   "execution_count": 7,
   "metadata": {},
   "outputs": [
    {
     "output_type": "stream",
     "name": "stdout",
     "text": "0 Sarah\n1 John\n2 Joe\n3 Emily\n4 Quang\n"
    }
   ],
   "source": [
    "for n, member in enumerate(lab_group0):\n",
    "    print(n, member)"
   ]
  },
  {
   "cell_type": "markdown",
   "metadata": {},
   "source": [
    "上例中：`n` 是列表中的位置，而 `member` 就是列表中的第 $n$ 个条目。有时候，我们需要知道它的位置，此时 `enumerate` 就起了作用。然而，尽可能地还是使用“纯” 迭代。再次注意：在 Python 中，计数是从 0 开始的——它使用基于 0 的索引。"
   ]
  },
  {
   "cell_type": "markdown",
   "metadata": {},
   "source": [
    "## 操作列表 \n",
    "\n",
    "有很多函数可供操作列表。也许对列表进行排序比较有用："
   ]
  },
  {
   "cell_type": "code",
   "execution_count": 8,
   "metadata": {},
   "outputs": [
    {
     "output_type": "stream",
     "name": "stdout",
     "text": "Emily\nJoe\nJohn\nQuang\nSarah\n"
    }
   ],
   "source": [
    "lab_group0.sort()\n",
    "for member in lab_group0:\n",
    "    print(member)"
   ]
  },
  {
   "cell_type": "markdown",
   "metadata": {},
   "source": [
    "在上面的代码中，`sort` 被称为 `list` 的一个 `method`。它执行的是一个 *in-place* 排序，比如：`lab_group0` 就被排序了，而不是使用排好序的条目来创建一个新的列表（后面，我们将会使用 `sorted(lab_group0)`，而它会返回一个新的列表）。当我们讲解到面向对象设计的时候，将会涉及更多的方法。\n",
    "\n",
    "我们可以在列表中添加和删除学生："
   ]
  },
  {
   "cell_type": "code",
   "execution_count": 9,
   "metadata": {},
   "outputs": [
    {
     "output_type": "stream",
     "name": "stdout",
     "text": "['Emily', 'John', 'Quang', 'Sarah']\n['Emily', 'John', 'Quang', 'Sarah', 'Josephine']\n"
    }
   ],
   "source": [
    "# 删除第二个学生（索引从 0 开始，那么索引 1 就是指的第二个元素）\n",
    "lab_group0.pop(1)\n",
    "print(lab_group0)\n",
    "\n",
    "# 在列表最后添加一个名为 \"Josephine\" 的学生\n",
    "lab_group0.append(\"Josephine\")\n",
    "print(lab_group0)"
   ]
  },
  {
   "cell_type": "markdown",
   "metadata": {},
   "source": [
    "或者将两个分组合并以创建一个更大的分组： "
   ]
  },
  {
   "cell_type": "code",
   "execution_count": 10,
   "metadata": {},
   "outputs": [
    {
     "output_type": "stream",
     "name": "stdout",
     "text": "['Emily', 'John', 'Quang', 'Sarah', 'Josephine', 'Roger', 'Rachel', 'Amer', 'Caroline', 'Colin']\n"
    }
   ],
   "source": [
    "lab_group1 = [\"Roger\", \"Rachel\", \"Amer\", \"Caroline\", \"Colin\"]\n",
    "\n",
    "lab_group = lab_group0 + lab_group1\n",
    "print(lab_group)"
   ]
  },
  {
   "cell_type": "markdown",
   "metadata": {},
   "source": [
    "或创建一个包含分组列表的列表："
   ]
  },
  {
   "cell_type": "code",
   "execution_count": 35,
   "metadata": {},
   "outputs": [
    {
     "output_type": "stream",
     "name": "stdout",
     "text": "[['Sarah', 'John', 'Joe', 'Emily'], ['Roger', 'Rachel', 'Amer', 'Caroline', 'Colin']]\n---\n打印每一个实验分组（名称和成员）：\n0 ['Sarah', 'John', 'Joe', 'Emily']\n1 ['Roger', 'Rachel', 'Amer', 'Caroline', 'Colin']\n"
    }
   ],
   "source": [
    "lab_groups = [lab_group0, lab_group1]\n",
    "print(lab_groups)\n",
    "\n",
    "print(\"---\")\n",
    "\n",
    "print(\"打印每一个实验分组（名称和成员）：\")\n",
    "for i, lab_group in enumerate(lab_groups):\n",
    "    print(i, lab_group)"
   ]
  },
  {
   "cell_type": "markdown",
   "metadata": {},
   "source": [
    "## 索引\n",
    "\n",
    "列表是按序存储数据的，所以，可以使用一个整数（对于使用过 C 语言的人来说这太熟悉了）来“索引到”一个列表，比如："
   ]
  },
  {
   "cell_type": "code",
   "execution_count": 12,
   "metadata": {},
   "outputs": [
    {
     "output_type": "stream",
     "name": "stdout",
     "text": "Emily Quang\n"
    }
   ],
   "source": [
    "first_member = lab_group0[0]\n",
    "third_member = lab_group0[2]\n",
    "print(first_member, third_member)"
   ]
  },
  {
   "cell_type": "markdown",
   "metadata": {},
   "source": [
    "或者"
   ]
  },
  {
   "cell_type": "code",
   "execution_count": 13,
   "metadata": {},
   "outputs": [
    {
     "output_type": "stream",
     "name": "stdout",
     "text": "Emily\nJohn\nQuang\nSarah\nJosephine\n"
    }
   ],
   "source": [
    "for i in range(len(lab_group0)):\n",
    "    print(lab_group0[i])"
   ]
  },
  {
   "cell_type": "markdown",
   "metadata": {},
   "source": [
    "索引号从 0 开始，直到 (length - 1)。\n",
    "\n",
    "对于数值计算来说，索引非常有用。我们在这里就可以使用它来计算两个向量间的点乘："
   ]
  },
  {
   "cell_type": "code",
   "execution_count": 14,
   "metadata": {},
   "outputs": [
    {
     "output_type": "stream",
     "name": "stdout",
     "text": "154.45000000000002\n"
    }
   ],
   "source": [
    "# 长度为 4 的两个向量\n",
    "x = [1.0, 3.5, 7.2, 8.9]\n",
    "y = [-1.0, 27.1, 1.0, 6]\n",
    "\n",
    "# 计算点乘\n",
    "dot_product = 0.0\n",
    "for i in range(len(x)):\n",
    "    dot_product += x[i]*y[i]\n",
    "\n",
    "print(dot_product)"
   ]
  },
  {
   "cell_type": "markdown",
   "metadata": {},
   "source": [
    "尽可能地对列表使用迭代而非索引，这是因为，有些数据类型支持迭代而非索引。\n",
    "\n",
    "假如我们有一个包含列表地列表，"
   ]
  },
  {
   "cell_type": "code",
   "execution_count": 15,
   "metadata": {},
   "outputs": [],
   "source": [
    "lab_group0 = [\"Sarah\", \"John\", \"Joe\", \"Emily\"]\n",
    "lab_group1 = [\"Roger\", \"Rachel\", \"Amer\", \"Caroline\", \"Colin\"]\n",
    "lab_groups = [lab_group0, lab_group1]"
   ]
  },
  {
   "cell_type": "markdown",
   "metadata": {},
   "source": [
    "我们可以使用第一个索引来获取一个列表，再使用第二个索引来访问列表中的条目："
   ]
  },
  {
   "cell_type": "code",
   "execution_count": 16,
   "metadata": {},
   "outputs": [
    {
     "output_type": "stream",
     "name": "stdout",
     "text": "['Sarah', 'John', 'Joe', 'Emily']\nAmer\n"
    }
   ],
   "source": [
    "group = lab_groups[0]\n",
    "print(group)\n",
    "\n",
    "name = lab_groups[1][2]\n",
    "print(name)"
   ]
  },
  {
   "cell_type": "markdown",
   "metadata": {},
   "source": [
    "## 异质性（列表中包含多种数据类型的元素）\n",
    "\n",
    "Python 的列表是异质数据结构——也就是它可以存储混合的数据类型，比如："
   ]
  },
  {
   "cell_type": "code",
   "execution_count": 17,
   "metadata": {},
   "outputs": [
    {
     "output_type": "stream",
     "name": "stdout",
     "text": "Adam <class 'str'>\n(2+4j) <class 'complex'>\n1.0 <class 'float'>\n4 <class 'int'>\n"
    }
   ],
   "source": [
    "mixed_list = [\"Adam\", 2 + 4j, 1.0, 4]\n",
    "for entry in mixed_list:\n",
    "    print(entry, type(entry))"
   ]
  },
  {
   "cell_type": "markdown",
   "metadata": {},
   "source": [
    "在大多数语言中，数组是同质的——数组中的所有数据类型都是一致的。\n",
    "\n",
    "操作列表有 *很多种* 方式。学习如何执行一个特定操作的最佳方式就是使用一个搜索引擎。"
   ]
  },
  {
   "cell_type": "markdown",
   "metadata": {},
   "source": [
    "## 列表解析\n",
    "\n",
    "现代语言中（包括 Python）一个强大的结构，就是 *列表解析 (list comprehension)*。它是一种很简洁地将一个列表构建为另一个列表地方式，但是应用它的时候要足够显式一点，因为有的时候它会显得比较难以读懂。 \n",
    "\n",
    "比方说，我们有一个数字列表，我们希望将列表中的每个数字平方一下并加上 5，并将结果存储到一个新的列表中，这时，我们可以使用列表解析："
   ]
  },
  {
   "cell_type": "code",
   "execution_count": 18,
   "metadata": {},
   "outputs": [
    {
     "output_type": "stream",
     "name": "stdout",
     "text": "[4, 6, 10, 11]\n[21, 41, 105, 126]\n"
    }
   ],
   "source": [
    "x = [4, 6, 10, 11]\n",
    "y = [a*a + 5 for a in x]\n",
    "\n",
    "print(x)\n",
    "print(y)"
   ]
  },
  {
   "cell_type": "markdown",
   "metadata": {},
   "source": [
    "要想理解它的含义，请从左往右读这个语句。\n",
    "\n",
    "再比如有另一个例子，我们有一个名称列表，想要完成如下的任务： \n",
    "\n",
    "- 构建一个新的名称列表，仅包含长度超过 5 个字符的名称；并且 \n",
    "- 并且在名称后面加上一个点号。\n",
    "\n",
    "使用列表解析："
   ]
  },
  {
   "cell_type": "code",
   "execution_count": 19,
   "metadata": {},
   "outputs": [
    {
     "output_type": "stream",
     "name": "stdout",
     "text": "['Roger', 'Rachel', 'Amer', 'Caroline', 'Colin']\n['Rachel.', 'Caroline.']\n"
    }
   ],
   "source": [
    "lab_group1 = [\"Roger\", \"Rachel\", \"Amer\", \"Caroline\", \"Colin\"]\n",
    "group = [name + \".\" for name in lab_group1 if len(name) > 5]\n",
    "\n",
    "print(lab_group1)\n",
    "print(group)"
   ]
  },
  {
   "cell_type": "markdown",
   "metadata": {},
   "source": [
    "掌握列表解析并不是一个简单的事，但是它真的非常强大。"
   ]
  },
  {
   "cell_type": "markdown",
   "metadata": {},
   "source": [
    "## 元组\n",
    "\n",
    "Tuples are closely related to lists. The main difference is that a tuple cannot be changed after it has been created. \n",
    "In computing jargon, it is *immutable*.\n",
    "\n",
    "For something that should not change after it has been created, such as a vector of length three with fixed entries, a tuple is more appropriate than a list. It is 'safer' in this case since it cannot be modified accidentally in a program. Being immutable ('read-only') also permits implementations to possibly exploit this to optimise for speed.\n",
    "\n",
    "To create a tuple, use round brackets. Say at a college each student is assigned a room, and the rooms are numbered. A student 'Laura' is given room 32:"
   ]
  },
  {
   "cell_type": "code",
   "execution_count": 20,
   "metadata": {},
   "outputs": [
    {
     "output_type": "stream",
     "name": "stdout",
     "text": "Room allocation: ('Laura', 32)\nLength of entry: 2\n<class 'tuple'>\n"
    }
   ],
   "source": [
    "room = (\"Laura\", 32)\n",
    "print(\"Room allocation: {}\".format(room))\n",
    "print(\"Length of entry: {}\".format(len(room)))\n",
    "print(type(room))"
   ]
  },
  {
   "cell_type": "markdown",
   "metadata": {},
   "source": [
    "We can iterate over tuples in the same way as with lists,"
   ]
  },
  {
   "cell_type": "code",
   "execution_count": 21,
   "metadata": {},
   "outputs": [
    {
     "output_type": "stream",
     "name": "stdout",
     "text": "Laura\n32\n"
    }
   ],
   "source": [
    "# Iterate over tuple values\n",
    "for d in room:\n",
    "    print(d)"
   ]
  },
  {
   "cell_type": "markdown",
   "metadata": {},
   "source": [
    "and we can index into a tuple:"
   ]
  },
  {
   "cell_type": "code",
   "execution_count": 22,
   "metadata": {},
   "outputs": [
    {
     "output_type": "stream",
     "name": "stdout",
     "text": "32\nLaura\n"
    }
   ],
   "source": [
    "print(room[1])\n",
    "print(room[0])"
   ]
  },
  {
   "cell_type": "markdown",
   "metadata": {},
   "source": [
    "We might have a student who is given permission to live outside of college. To keep track of them we still want an entry for the student, but there is no associated room number. We can create a tuple of length one using '`(\"a\",)`', e.g.:"
   ]
  },
  {
   "cell_type": "code",
   "execution_count": 23,
   "metadata": {},
   "outputs": [
    {
     "output_type": "stream",
     "name": "stdout",
     "text": "Room allocation: ('Adrian',)\nLength of entry: 1\n<class 'tuple'>\n"
    }
   ],
   "source": [
    "room = (\"Adrian\",)\n",
    "print(\"Room allocation: {}\".format(room))\n",
    "print(\"Length of entry: {}\".format(len(room)))\n",
    "print(type(room))"
   ]
  },
  {
   "cell_type": "markdown",
   "metadata": {},
   "source": [
    "As part of a rooms database, we can create a list of tuples:"
   ]
  },
  {
   "cell_type": "code",
   "execution_count": 24,
   "metadata": {},
   "outputs": [
    {
     "output_type": "stream",
     "name": "stdout",
     "text": "[('Adrian',), ('Laura', 32), ('John', 31), ('Penelope', 28), ('Fraser', 28), ('Gaurav', 19)]\n"
    }
   ],
   "source": [
    "room_allocation = [(\"Adrian\",), (\"Laura\", 32), (\"John\", 31), (\"Penelope\", 28), (\"Fraser\", 28), (\"Gaurav\", 19)]\n",
    "print(room_allocation)"
   ]
  },
  {
   "cell_type": "markdown",
   "metadata": {},
   "source": [
    "To make it easier for students to find their rooms on a printed room list, we can sort the list:"
   ]
  },
  {
   "cell_type": "code",
   "execution_count": 25,
   "metadata": {},
   "outputs": [
    {
     "output_type": "stream",
     "name": "stdout",
     "text": "[('Adrian',), ('Fraser', 28), ('Gaurav', 19), ('John', 31), ('Laura', 32), ('Penelope', 28)]\n"
    }
   ],
   "source": [
    "room_allocation.sort()\n",
    "print(room_allocation)"
   ]
  },
  {
   "cell_type": "markdown",
   "metadata": {},
   "source": [
    "We could improve the printed list by not printing those living outside of the college:"
   ]
  },
  {
   "cell_type": "code",
   "execution_count": 26,
   "metadata": {},
   "outputs": [
    {
     "output_type": "stream",
     "name": "stdout",
     "text": "Name: Fraser \n  Room: 28\nName: Gaurav \n  Room: 19\nName: John \n  Room: 31\nName: Laura \n  Room: 32\nName: Penelope \n  Room: 28\n"
    }
   ],
   "source": [
    "for entry in room_allocation:\n",
    "    if len(entry) > 1:\n",
    "        print(\"Name: {} \\n  Room: {}\".format(entry[0], entry[1]))"
   ]
  },
  {
   "cell_type": "markdown",
   "metadata": {},
   "source": [
    "In summary, prefer tuples over lists when the length will not change."
   ]
  },
  {
   "cell_type": "markdown",
   "metadata": {},
   "source": [
    "# Dictionaries (maps)\n",
    "\n",
    "We used a list of tuples in the previous section to store room allocations. If we wanted to find which room a particular student has been allocated we would need to iterate through the list and check each name. For a very large list, this might not be very efficient.\n",
    "\n",
    "There is a better way to do this, using a 'dictionary' (or sometimes called a 'map'). We have used indexing (with integers) into lists and tuples for direct access to a specific entry. This works if we know the index to the entry of interest. But, for a room list we identify individuals by name rather than a contiguous set of integers. Using a dictionary, we can build a 'map' from names (the *keys*) to room numbers (the *values*). \n",
    "\n",
    "A Python dictionary (`dict`) is declared using curly braces:"
   ]
  },
  {
   "cell_type": "code",
   "execution_count": 27,
   "metadata": {},
   "outputs": [
    {
     "output_type": "stream",
     "name": "stdout",
     "text": "{'Adrian': None, 'Laura': 32, 'John': 31, 'Penelope': 28, 'Fraser': 28, 'Gaurav': 19}\n<class 'dict'>\n"
    }
   ],
   "source": [
    "room_allocation = {\"Adrian\": None, \"Laura\": 32, \"John\": 31, \"Penelope\": 28, \"Fraser\": 28, \"Gaurav\": 19}\n",
    "print(room_allocation)\n",
    "print(type(room_allocation))"
   ]
  },
  {
   "cell_type": "markdown",
   "metadata": {},
   "source": [
    "Each entry is separated by a comma. For each entry we have a 'key', which is followed by a colon, and then the 'value'. Note that for Adrian we have used '`None`' for the value, which is a Python keyword for 'nothing' or 'empty'.\n",
    "\n",
    "Now if we want to know which room Fraser has been allocated, we can query the dictionary by key:"
   ]
  },
  {
   "cell_type": "code",
   "execution_count": 28,
   "metadata": {},
   "outputs": [
    {
     "output_type": "stream",
     "name": "stdout",
     "text": "28\n"
    }
   ],
   "source": [
    "frasers_room = room_allocation[\"Fraser\"]\n",
    "print(frasers_room)"
   ]
  },
  {
   "cell_type": "markdown",
   "metadata": {},
   "source": [
    "If we try to use a key that does not exist in the dictionary, e.g.\n",
    "\n",
    "    frasers_room = room_allocation[\"Frasers\"]\n",
    "\n",
    "Python will give an error (raise an exception). If we're not sure that a key is present, we can check:"
   ]
  },
  {
   "cell_type": "code",
   "execution_count": 29,
   "metadata": {},
   "outputs": [
    {
     "output_type": "stream",
     "name": "stdout",
     "text": "True\nFalse\n"
    }
   ],
   "source": [
    "print(\"Fraser\" in room_allocation)\n",
    "print(\"Frasers\" in room_allocation)"
   ]
  },
  {
   "cell_type": "markdown",
   "metadata": {},
   "source": [
    "(We can also use '`in`' to check if an entry exists in a list or tuple).\n",
    "We can iterate over the keys in a dictionary:"
   ]
  },
  {
   "cell_type": "code",
   "execution_count": 30,
   "metadata": {},
   "outputs": [
    {
     "output_type": "stream",
     "name": "stdout",
     "text": "Adrian\nLaura\nJohn\nPenelope\nFraser\nGaurav\n"
    }
   ],
   "source": [
    "for d in room_allocation:\n",
    "    print(d)"
   ]
  },
  {
   "cell_type": "markdown",
   "metadata": {},
   "source": [
    "or iterate over both the keys and the values:"
   ]
  },
  {
   "cell_type": "code",
   "execution_count": 31,
   "metadata": {},
   "outputs": [
    {
     "output_type": "stream",
     "name": "stdout",
     "text": "Adrian None\nLaura 32\nJohn 31\nPenelope 28\nFraser 28\nGaurav 19\n"
    }
   ],
   "source": [
    "for name, room_number in room_allocation.items():\n",
    "    print(name, room_number)"
   ]
  },
  {
   "cell_type": "markdown",
   "metadata": {},
   "source": [
    "Note that the order of the printed entries in the dictionary is different from the input order. This is because a dictionary stores data differently from a list or tuple. Lists and tuples store entries 'linearly' in memory\n",
    "(contiguous pieces of memory), which is why we can access entries by index. Dictionaries use a different type of storage which allows us to perform look-ups using a 'key'.\n",
    "\n",
    "We have used a string as the key so far, which is common. However, we can use almost any type as a key, and we can mix types. For example, we might want to 'invert' the room allocation dictionary to create a room-to-name map: "
   ]
  },
  {
   "cell_type": "code",
   "execution_count": 32,
   "metadata": {},
   "outputs": [
    {
     "output_type": "stream",
     "name": "stdout",
     "text": "{None: 'Adrian', 32: 'Laura', 31: 'John', 28: 'Fraser', 19: 'Gaurav'}\n"
    }
   ],
   "source": [
    "# Create empty dictionary\n",
    "room_allocation_inverse = {}\n",
    "\n",
    "# Build inverse dictionary to map 'room number' -> name \n",
    "for name, room_number in room_allocation.items():\n",
    "    # Insert entry into dictionary\n",
    "    room_allocation_inverse[room_number] = name\n",
    "\n",
    "print(room_allocation_inverse)"
   ]
  },
  {
   "cell_type": "markdown",
   "metadata": {},
   "source": [
    "We can now ask who is in room 28 and who is in room 29. Not all rooms are occupied, so we should include a check that the room number is a key in our dictionary:"
   ]
  },
  {
   "cell_type": "code",
   "execution_count": 33,
   "metadata": {},
   "outputs": [
    {
     "output_type": "stream",
     "name": "stdout",
     "text": "Room 28 is occupied by Fraser.\nRoom 29 is unoccupied.\n"
    }
   ],
   "source": [
    "rooms_to_check = [28, 29]\n",
    "\n",
    "for room in rooms_to_check:\n",
    "    if room in room_allocation_inverse:\n",
    "        print(\"Room {} is occupied by {}.\".format(room, room_allocation_inverse[room]))\n",
    "    else:\n",
    "        print(\"Room {} is unoccupied.\".format(room))"
   ]
  },
  {
   "cell_type": "markdown",
   "metadata": {},
   "source": [
    "# Choosing a data structure\n",
    "\n",
    "An important task when developing a computer program is selecting the *appropriate* data structure for a task.\n",
    "The more flexible the data structure, generally the less efficient it will be and it may use more memory compared to simpler data structures.\n",
    "\n",
    "- If efficiency is not critical, pick a data structure that provides the functionality you need, and offers \n",
    "  flexibility and ease of use. Safety should also be considered (this can be a good reason for choosing a \n",
    "  tuple over a list).\n",
    "- Use iterators rather than indexing when possible. This will allow switching from data structures that support \n",
    "  indexing to data structures that do not support indexing (such as a '`set`' data structure).\n",
    "\n",
    "For numerical computations, efficiency is often essential and picking the right data structure is critical\n",
    "for this. We will look at data structures that are specialied for numerical computations in the next notebook, and we'll see the huge difference in speed there can be between different data structures."
   ]
  },
  {
   "cell_type": "markdown",
   "metadata": {},
   "source": [
    "# Exercises\n",
    "\n",
    "Complete now the [06 Exercises](Exercises/06%20Exercises.ipynb) notebook."
   ]
  }
 ],
 "metadata": {
  "kernelspec": {
   "display_name": "Python 3",
   "language": "python",
   "name": "python3"
  },
  "language_info": {
   "codemirror_mode": {
    "name": "ipython",
    "version": 3
   },
   "file_extension": ".py",
   "mimetype": "text/x-python",
   "name": "python",
   "nbconvert_exporter": "python",
   "pygments_lexer": "ipython3",
   "version": "3.8.0-final"
  }
 },
 "nbformat": 4,
 "nbformat_minor": 4
}